{
  "nbformat": 4,
  "nbformat_minor": 0,
  "metadata": {
    "colab": {
      "provenance": []
    },
    "kernelspec": {
      "name": "python3",
      "display_name": "Python 3"
    },
    "language_info": {
      "name": "python"
    }
  },
  "cells": [
    {
      "cell_type": "code",
      "source": [
        "import numpy as np\n",
        "from sklearn import datasets"
      ],
      "metadata": {
        "id": "eEw8WjC-iod8"
      },
      "execution_count": null,
      "outputs": []
    },
    {
      "cell_type": "markdown",
      "source": [
        "##Окончание разбора классических алгоритмов машинного обучения.##\n",
        "\n",
        "### Сколько классов в датасете [iris](https://ru.wikipedia.org/wiki/Ирисы_Фишера) из списка стадндартных датасетов библиотеки sklearn? ###"
      ],
      "metadata": {
        "id": "Fvf0MnLAjQiE"
      }
    },
    {
      "cell_type": "code",
      "source": [
        "iris = datasets.load_iris()"
      ],
      "metadata": {
        "id": "-1b0NYSUkUll"
      },
      "execution_count": null,
      "outputs": []
    },
    {
      "cell_type": "code",
      "source": [
        "X = iris.data"
      ],
      "metadata": {
        "id": "VRYd4WFvkXbr"
      },
      "execution_count": null,
      "outputs": []
    },
    {
      "cell_type": "code",
      "source": [
        "#Обучите 5 моделей K-средних с разным количеством кластеров. Далее посчитайте \n",
        "#точность и узнате сколько классов ириса содержит датасет.\n",
        "from sklearn.cluster import KMeans\n",
        "models = []\n",
        "for i in range(1, 6):\n",
        "    #\n"
      ],
      "metadata": {
        "id": "s7JPXGJiloNs"
      },
      "execution_count": null,
      "outputs": []
    },
    {
      "cell_type": "code",
      "source": [
        "#сравните найденное количество классов с реальным значением.\n",
        "len(np.unique(iris.target))"
      ],
      "metadata": {
        "id": "A3QIcpjSmLKs"
      },
      "execution_count": null,
      "outputs": []
    },
    {
      "cell_type": "markdown",
      "source": [
        "###Обучите известные вам модели для классификации. Посчитайте точность. Визуализируйте результат каждой модели. Какая модель на ваш взгляд справилась лучше с этой задачей? ###"
      ],
      "metadata": {
        "id": "WXvD4yT9ogzd"
      }
    },
    {
      "cell_type": "code",
      "source": [],
      "metadata": {
        "id": "yVNyDeZMo8v1"
      },
      "execution_count": null,
      "outputs": []
    },
    {
      "cell_type": "markdown",
      "source": [
        "###Творчество. Давайте попробуем предсказать лучший университет###\n",
        "**Ваша задача**\n",
        "1. Ознакомьтесь с [датасетом](https://www.kaggle.com/datasets/mylesoneill/world-university-rankings?resource=download)\n",
        "2. Выведите какие поля (названия столбцов) содержит датасет (можно использовать\n",
        "pandas, можно прочитать данные через csv)\n",
        "3. Очистите данные (если необходимо).\n",
        "4. Создайте датасет. Целевой переменной, которую вы будете предсказывать станет столбец с местом университета. Остальные параметры X.\n",
        "5. Разбейте датасет на тренировочную и обучающую выборки (train_test_split из skleant).\n",
        "6. Обучите модель линейной регрессии для предсказания \n",
        "7. Провертье точность на тестовых данных. (используйте from sklearn.metrics import r2_score)"
      ],
      "metadata": {
        "id": "DsYdnDlXvIK2"
      }
    },
    {
      "cell_type": "code",
      "source": [
        "from google.colab import files\n",
        "files.upload()"
      ],
      "metadata": {
        "id": "-Lott7y-6KMD"
      },
      "execution_count": null,
      "outputs": []
    },
    {
      "cell_type": "code",
      "source": [
        "\n",
        "#перед пунктом 6 может понадобиться нормализация данных. Для этого используйте \n",
        "from sklearn.preprocessing import StandardScaler\n",
        "scaler = StandardScaler()\n",
        "X_train = scaler.fit_transform(X_train)\n",
        "X_test = scaler.transform(X_test)"
      ],
      "metadata": {
        "id": "WfKfus-1vOwg"
      },
      "execution_count": null,
      "outputs": []
    }
  ]
}