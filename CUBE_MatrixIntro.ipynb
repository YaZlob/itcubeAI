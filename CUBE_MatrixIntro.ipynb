{
  "nbformat": 4,
  "nbformat_minor": 0,
  "metadata": {
    "colab": {
      "provenance": []
    },
    "kernelspec": {
      "name": "python3",
      "display_name": "Python 3"
    },
    "language_info": {
      "name": "python"
    }
  },
  "cells": [
    {
      "cell_type": "markdown",
      "source": [
        "#### Занятие №2\n",
        "\n",
        "> Предыдущее занятие закончилось на том, что существуют вектора строки и столбцы.\n",
        "\n",
        "> Что будет если умножить вектор столбец на вектор строку?"
      ],
      "metadata": {
        "id": "InKZ8VFsxVwp"
      }
    },
    {
      "cell_type": "code",
      "source": [
        "import numpy as np"
      ],
      "metadata": {
        "id": "b-DQv2QPE0Yq"
      },
      "execution_count": null,
      "outputs": []
    },
    {
      "cell_type": "code",
      "execution_count": null,
      "metadata": {
        "id": "S8QvpLDvxRMI"
      },
      "outputs": [],
      "source": [
        "#возьмем вектора из предыдущего занятия\n",
        "a = np.array([[ 1], [-2], [ 5]])\n",
        "b = np.array([[-1,  4, 12]])\n",
        "a * b"
      ]
    },
    {
      "cell_type": "markdown",
      "source": [
        "> Полученный результат называется матрицей. Понимание принципов работы с матрицами - основа основ в искусственном интелекте. В чем вы позже сами убедитесь. \n",
        "\n"
      ],
      "metadata": {
        "id": "iT8rZAYcHepR"
      }
    },
    {
      "cell_type": "markdown",
      "source": [
        "#### Матрицы в реальной жизни\n",
        "\n",
        "На самом деле матрица не обязательно содержит только числа. Таблицы excel, csv, изображения, даже ваша библиотека в steam или epic games тоже в каком-то роде матрицы.\n",
        "\n",
        "Это тоже матрица, но для взрослых:\n",
        "\n",
        "Потребляемые ресурсы  | жилое | офисное |\n",
        "----------------------|-------|---------|\n",
        "холодное водоснабжение| 9.3 $м^3$ | 12.5 $м^3$\n",
        "горячее водоснабжение | 2.5 $м^3$ | 1.1 $м^3$"
      ],
      "metadata": {
        "id": "snhOqY6KEiZw"
      }
    },
    {
      "cell_type": "code",
      "source": [
        "\n",
        "url = 'https://avatars.mds.yandex.net/get-kinopoisk-blog-post-thumb/40130/35754ddbea4762f5c63169055d0e33dc/1200x630'\n",
        "from PIL import Image\n",
        "import requests\n",
        "\n",
        "img_data = requests.get(url).content\n",
        "with open('mem.jpg', 'wb') as image:\n",
        "    image.write(img_data)\n",
        "img = Image.open('mem.jpg')\n",
        "img"
      ],
      "metadata": {
        "id": "64IaRUhKGHcw"
      },
      "execution_count": null,
      "outputs": []
    },
    {
      "cell_type": "code",
      "source": [
        "img = np.array(img)\n",
        "img.shape"
      ],
      "metadata": {
        "id": "8HnlYuI5IGiA"
      },
      "execution_count": null,
      "outputs": []
    },
    {
      "cell_type": "markdown",
      "source": [
        "#### Матрицы в математике\n",
        "В общем виде матрицу обозначают следующим образом:\n",
        "$A_{m,n} =\n",
        " \\begin{pmatrix}\n",
        "  a_{1,1} & a_{1,2} & \\cdots & a_{1,n} \\\\\n",
        "  a_{2,1} & a_{2,2} & \\cdots & a_{2,n} \\\\\n",
        "  \\vdots  & \\vdots  & \\ddots & \\vdots  \\\\\n",
        "  a_{m,1} & a_{m,2} & \\cdots & a_{m,n}\n",
        " \\end{pmatrix}$\n",
        "\n",
        "\n",
        "*   m - число строк\n",
        "*   n - число столбцов\n",
        "\n",
        "> В университете на изучение матриц, их свойст и операций с ними отводят 2 семестра, но у нас нет столько времени. На данный момент матрица для нас - это набор векторов.\n",
        "\n",
        "$A_{m,n} =\n",
        " \\begin{pmatrix}\n",
        "  v_1 \\\\ v_2 \\\\ \\cdots \\\\v_m\n",
        " \\end{pmatrix}$\n",
        "\n",
        "> где у каждого вектора есть *n* координат\n",
        "\n",
        "##### Операции с матрицами на numpy\n",
        "\n",
        "1.   сложение с числом\n",
        "2.   умножение на число\n",
        "3.   сложение с матрицей\n",
        "4.   умножение на матрицу\n",
        "> Будьте аккуратны с умножением матриц! Умножение матриц в математике происходит по определенному правилу, но numpy умножает матрицы поэлементно!\n",
        "\n",
        "$A_{m,n} * B_{m,n} = \n",
        "  \\begin{pmatrix}\n",
        "  a_{1,1} * b_{1,1} & a_{1,2} * b_{1,2} & \\cdots & a_{1,n} * b_{1,n} \\\\\n",
        "  a_{2,1} * b_{2,1} & a_{2,2} * b_{2,2} & \\cdots & a_{2,n} *  b_{2,n} \\\\\n",
        "  \\vdots  & \\vdots  & \\ddots & \\vdots  \\\\\n",
        "  a_{m,1} * b_{m,1} & a_{m,2} * b_{m, 2} & \\cdots & a_{m,n} * b_{m,n}\n",
        " \\end{pmatrix}$"
      ],
      "metadata": {
        "id": "APcnvsYvIgO5"
      }
    },
    {
      "cell_type": "code",
      "source": [
        "matrix_a = np.array([[1,2], [3,4]])\n",
        "matrix_b = np.array([[5,6], [7,8]])\n",
        "assert matrix_a.shape == matrix_b.shape"
      ],
      "metadata": {
        "id": "VaNLyylfl1Dg"
      },
      "execution_count": null,
      "outputs": []
    },
    {
      "cell_type": "code",
      "source": [
        "#np.equal - принимает на вход 2 объекта np.array и сравнивает их поэлементно \n",
        "#np.all - принимает на вход объект np.array \n",
        "np.all(np.equal(matrix_a + 4, matrix_b))"
      ],
      "metadata": {
        "id": "fhfBpt41mZLg"
      },
      "execution_count": null,
      "outputs": []
    },
    {
      "cell_type": "code",
      "source": [
        "matrix_a * matrix_b"
      ],
      "metadata": {
        "id": "PT1utwo3micP"
      },
      "execution_count": null,
      "outputs": []
    },
    {
      "cell_type": "code",
      "source": [
        "matrix_b * matrix_a"
      ],
      "metadata": {
        "id": "Yu93LTOmpBhp"
      },
      "execution_count": null,
      "outputs": []
    },
    {
      "cell_type": "markdown",
      "source": [
        "> Но на самом деле умножение матриц считается по-другому.\n",
        "\n",
        "![image.png](data:image/png;base64,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)\n",
        "\n",
        "взято из [wiki](https://ru.wikipedia.org/wiki/Умножение_матриц)\n",
        "> как можно заметить матрицы разного размера ! Для умножения матриц должно выполняться следующее правило:\n",
        "\n",
        "$A_{m,n}*B_{n,p}=C_{m,p}$\n",
        "\n",
        "> Пример\n",
        "$$\n",
        "\\begin{pmatrix}\n",
        "  1 & 2 & 4  \\\\\n",
        "  2 & 0 & 3 \n",
        "\\end{pmatrix}\n",
        "\\begin{pmatrix}\n",
        "  2 & 5 \\\\\n",
        "  1 & 3 \\\\\n",
        "  1 & 1 \n",
        "\\end{pmatrix} =\n",
        "\\begin{pmatrix}\n",
        "  1*2 + 2*1 + 4*1 & 1*5 + 2*3 + 1*4 \\\\\n",
        "  2*2 + 0*1 + 1*3 & 2*5 + 0*3 + 3*1 \n",
        "\\end{pmatrix}=\n",
        "\\begin{pmatrix}\n",
        "  8 & 15 \\\\\n",
        "  7 & 13\n",
        "\\end{pmatrix}\n",
        "$$\n"
      ],
      "metadata": {
        "id": "EZmgmlsGpJEv"
      }
    },
    {
      "cell_type": "code",
      "source": [
        "a = np.array([[1,2,4], [2, 0,3]])\n",
        "b = np.array([[2, 5], [1,3], [1,1]])\n",
        "a@b"
      ],
      "metadata": {
        "id": "1cQWXr90-kpm"
      },
      "execution_count": null,
      "outputs": []
    },
    {
      "cell_type": "code",
      "source": [
        "#для умножения матриц как в математике в numpy используется оператор @\n",
        "matrix_b @ matrix_a"
      ],
      "metadata": {
        "id": "CAhQ8oq8pISn"
      },
      "execution_count": null,
      "outputs": []
    },
    {
      "cell_type": "code",
      "source": [
        "np.all(np.equal(matrix_a @ matrix_b, matrix_b @ matrix_a))"
      ],
      "metadata": {
        "id": "GMV2ChyTsfI5"
      },
      "execution_count": null,
      "outputs": []
    },
    {
      "cell_type": "code",
      "source": [
        "#Умножение матриц некоммутативно! Если для чисел выполняется правило p * q = q * p\n",
        "#то для матриц в общем случае A*B != B*A \n",
        "matrix_a @ matrix_b"
      ],
      "metadata": {
        "id": "ppWBEk7OsmGH"
      },
      "execution_count": null,
      "outputs": []
    },
    {
      "cell_type": "markdown",
      "source": [
        " #### Упражениия\n",
        " ##### Для начала давайте разберемся как работать с матрицами на python, используя стандартный list"
      ],
      "metadata": {
        "id": "pRUY5Ey4Wj7p"
      }
    },
    {
      "cell_type": "code",
      "source": [
        "#матрица - это \"лист листов\"\n",
        "matrix = [[1,2,3], [4,5,6], [7,8,9]]\n",
        "#первый индекс указывает на [1,2,3], второй на элемент из этого листа\n",
        "first_elem = matrix[0][0]\n",
        "#аналогично первый индекс говорит, что мы обращаемся к [7,8,9], второй, что\n",
        "#мы хотим извлечь последний элемент из этого списка\n",
        "last_elem = matrix[-1][-1]\n",
        "print('first elem: {}, last elem: {}'.format(first_elem, last_elem))"
      ],
      "metadata": {
        "id": "_1L-KcA5W44R"
      },
      "execution_count": null,
      "outputs": []
    },
    {
      "cell_type": "code",
      "source": [
        "#Небольшая задачка - выведите на печать все элементы матрицы выше\n",
        "for i in range(...):          #итерация по всем строкам\n",
        "    for j in range(...):      #итерация по всем элементам списка\n",
        "        print(...)  \n",
        "       "
      ],
      "metadata": {
        "id": "ypg2SJfoX9F6"
      },
      "execution_count": null,
      "outputs": []
    },
    {
      "cell_type": "code",
      "source": [
        "#Давайте найдем минимальный элемент матрицы\n",
        "matrix = list[list[float]]\n",
        "random_matrix = np.random.randn(3,3).tolist()\n",
        "def min_elem(A:matrix) ->float:\n",
        "    \"\"\"\n",
        "    matrix (см выше) - матрица\n",
        "    out (float) -> минимальный элемент матрицы\n",
        "    \"\"\"\n",
        "    min = 9999\n",
        "    for i in range(...):\n",
        "        for j in range(...):\n",
        "           if (...):\n",
        "              min = #элемент матрицы\n",
        "print('минимальный элемент: ', min_elem(matrix))"
      ],
      "metadata": {
        "id": "m1Er6BGGYbMh"
      },
      "execution_count": null,
      "outputs": []
    },
    {
      "cell_type": "markdown",
      "source": [
        "А теперь то же самое, но с numpy"
      ],
      "metadata": {
        "id": "bgPS-S0bdy8H"
      }
    },
    {
      "cell_type": "code",
      "source": [
        "np_matrix = np.array([[1,2,3], [4,5,6], [7,8,9]])\n",
        "#Можно указывать индексы через , \n",
        "first_elem = np_matrix[0,0]\n",
        "#аналогично первый индекс говорит, что мы обращаемся к [7,8,9], второй, что\n",
        "#мы хотим извлечь последний элемент из этого списка\n",
        "last_elem = np_matrix[-1,-1]\n",
        "print('first elem: {}, last elem: {}'.format(first_elem, last_elem))"
      ],
      "metadata": {
        "id": "MJX4irC-dd63"
      },
      "execution_count": null,
      "outputs": []
    },
    {
      "cell_type": "code",
      "source": [
        "min_elem = np_matrix.min()\n",
        "print('минимальный элемент: ', min_elem)"
      ],
      "metadata": {
        "id": "aaI0u-Mpjb9G"
      },
      "execution_count": null,
      "outputs": []
    },
    {
      "cell_type": "code",
      "source": [
        "#numpy позволяет использовать срезы, как будто вы используете for в python\n",
        "#для примера, давайте создадим нулевую матрицу 5,5 и заполним нечетные строки\n",
        "#единицами\n",
        "zero_matrix = np.zeros((5,5))\n",
        "zero_matrix[1::2] = 1\n",
        "zero_matrix"
      ],
      "metadata": {
        "id": "D6wE3Szumn0c"
      },
      "execution_count": null,
      "outputs": []
    },
    {
      "cell_type": "code",
      "source": [
        "# Заполните центральную строку единицами\n",
        "zero_matrix = np.zeros((5,5))\n",
        "#your code\n",
        "\n"
      ],
      "metadata": {
        "id": "-rIJeKr_nPfc"
      },
      "execution_count": null,
      "outputs": []
    },
    {
      "cell_type": "markdown",
      "source": [
        "#### Бонус! Применение матриц\n",
        "##### Решение уравнений\n",
        "Наверное вы уже решали системы уравнений вроде этой\n",
        "\\begin{equation*}\n",
        " \\begin{cases}\n",
        "   2x - y = 1\\\\\n",
        "   3x + 5y = -1 \n",
        " \\end{cases}\n",
        "\\end{equation*}\n",
        "\n",
        "Решение таких систем в школе сводится к выражению одной из переменных из уравнения и подстановокой в другое. Давайте попробуем решить эту систему с помощью матриц!\n",
        "\n",
        "Матрица коэфициентов:\n",
        "$A =\n",
        " \\begin{pmatrix}\n",
        "  2 & -1  \\\\\n",
        "  3 &  5 \n",
        "\\end{pmatrix}$\n",
        "\n",
        "Матрица свободных членов:\n",
        "$B =\n",
        " \\begin{pmatrix}\n",
        "  1  \\\\\n",
        "  -1 \n",
        "\\end{pmatrix}$\n",
        "\n",
        "Получаем такое выражение: $A*X = B$\n",
        "\n",
        "Дальше, как и в школьной математике нам нужно выразить Х, но у матриц нет такой операции как деление. Мы можем только умножать матрицы. Значит нам нужно сделать так, чтобы перед X осталась единица (в нашем случае единичная матрица).\n",
        "\n",
        "$A^{-1}*A*X = A^{-1}*B\\\\\n",
        "X = A^{-1}*B$\n",
        "\n",
        "Матрица $A^{-1}$ называется обратной к матрице А. У нее есть важное свойство, которым мы воспользовались выше, когда выражали X, а именно $A^{-1}*A = E$, где E - это единичная матрица.\n",
        "\n",
        "$E =\n",
        " \\begin{pmatrix}\n",
        "  1 & 0 & \\cdots & 0 \\\\\n",
        "  0 & 1 & \\cdots & 0 \\\\\n",
        "  \\vdots  & \\vdots  & \\ddots & \\vdots  \\\\\n",
        "  0 & 0 & \\cdots & 1\n",
        " \\end{pmatrix}$\n",
        "\n"
      ],
      "metadata": {
        "id": "4h8_aTIeJ66Z"
      }
    },
    {
      "cell_type": "code",
      "source": [
        "a = np.array([[2, -1], [3, 5]])\n",
        "b = np.array([[1],[-1]])\n",
        "a_inverse = np.linalg.inv(a)\n",
        "a_inverse"
      ],
      "metadata": {
        "id": "iAneHo2oRM-R"
      },
      "execution_count": null,
      "outputs": []
    },
    {
      "cell_type": "code",
      "source": [
        "a_inverse @ a"
      ],
      "metadata": {
        "id": "b1vsH02dNbJo"
      },
      "execution_count": null,
      "outputs": []
    },
    {
      "cell_type": "code",
      "source": [
        "a_inverse @ b"
      ],
      "metadata": {
        "id": "HhkYulRbRkrQ"
      },
      "execution_count": null,
      "outputs": []
    },
    {
      "cell_type": "code",
      "source": [
        "#Проверим решение встроенной функцией\n",
        "np.linalg.solve(a, b)"
      ],
      "metadata": {
        "id": "c5xW9OGaSMEw"
      },
      "execution_count": null,
      "outputs": []
    },
    {
      "cell_type": "markdown",
      "source": [
        "Попробуйте самостоятельно решить систему уравнений:\n",
        "\\begin{equation*}\n",
        " \\begin{cases}\n",
        "   2x - y + 3z = 1\\\\\n",
        "   -2y + 2z = 2 \\\\\n",
        "   3x + y +z = 0 \n",
        " \\end{cases}\n",
        "\\end{equation*}\n",
        "\n",
        "Обратная матрица:\n",
        "$A^{-1} =\n",
        " \\begin{pmatrix}\n",
        "  -1 &1 & 1 \\\\\n",
        "  \\frac{6}{4} & -\\frac{7}{4} & -1 \\\\\n",
        "  \\frac{6}{4} & -\\frac{5}{4} & -1\n",
        " \\end{pmatrix}$\n"
      ],
      "metadata": {
        "id": "qZPv6Ja9Ydq5"
      }
    },
    {
      "cell_type": "code",
      "source": [
        "#@title Ответ\n",
        "inverse_matrix = np.array([[-1,1,1], [6/4, -7/4, -1], [6/4, -5/4, -1]])\n",
        "b = np.array([[1], [2], [0]])\n",
        "inverse_matrix @ b"
      ],
      "metadata": {
        "cellView": "form",
        "id": "IEBnxaqvxIOO"
      },
      "execution_count": null,
      "outputs": []
    },
    {
      "cell_type": "markdown",
      "source": [
        "> Чтобы закрепить понимание перемножения матриц, реализуйте функцию. Она должна принимать на вход 2 матрицы в формате список списков."
      ],
      "metadata": {
        "id": "mX6omEeZyDIm"
      }
    },
    {
      "cell_type": "code",
      "source": [
        "def matmul(A:matrix, B:matrix) ->matrix:\n",
        "    b_rows = len(B)\n",
        "    a_columns = len(A[0])\n",
        "    out: matrix = []\n",
        "    assert b_rows == a_columns\n",
        "    for i in range(len(...)):\n",
        "        temp = []\n",
        "        for j in range(len(...)):\n",
        "            res = 0\n",
        "            for k in range(...):\n",
        "               res += A[...][...] * B[...][...]\n",
        "            temp.append(res)\n",
        "        out.append(temp)\n",
        "    return out\n",
        "\n",
        "\n",
        "def test1(multiplication_func):\n",
        "    A = [[4,11], [3,7]]\n",
        "    B = [[13, 1], [-4, 15]]\n",
        "    A_arrays = np.array(A)\n",
        "    B_arrays = np.array(B)\n",
        "    gt_result = A_arrays @ B_arrays\n",
        "    your_res = np.array(multiplication_func(A, B))\n",
        "    assert np.all(np.equal(your_res, gt_result))\n",
        "\n",
        "def test2(multiplication_func):\n",
        "    A = [[2, -1, 3], [0, -2, 2], [3, 1, 1]]\n",
        "    B = [[1, 2, 1], [2, -1, 1], [1, 1, 2]]\n",
        "    A_arrays = np.array(A)\n",
        "    B_arrays = np.array(B)\n",
        "    gt_result = A_arrays @ B_arrays\n",
        "    your_res = np.array(multiplication_func(A, B))\n",
        "    assert np.all(np.equal(your_res, gt_result))\n",
        "\n",
        "def test3(multiplication_func):\n",
        "    A = [[3, -1, -1], [2, 0,3], [-2, -3, -1]]\n",
        "    B = [[-5, 1], [1, 3], [7, 2]]\n",
        "    A_arrays = np.array(A)\n",
        "    B_arrays = np.array(B)\n",
        "    gt_result = A_arrays @ B_arrays  \n",
        "    your_res = np.array(multiplication_func(A, B))\n",
        "    assert np.all(np.equal(your_res, gt_result))\n",
        "\n",
        "test1(matmul)\n",
        "test2(matmul)\n",
        "test3(matmul)"
      ],
      "metadata": {
        "id": "LiQ9FJ-8xX1Z"
      },
      "execution_count": null,
      "outputs": []
    },
    {
      "cell_type": "markdown",
      "source": [
        "#### Почему numpy?\n",
        "> Умножение матриц - есть в любой области математики. Оно настолько везде, что появились компании, которые специализируеются на производстве ускорителей для умножения матриц (Nvidia). Так как эта операция пользуется спросом инженеры смогли ее оптимизировать. Давайте посмотрим насколько."
      ],
      "metadata": {
        "id": "Xe-T6syAtdTJ"
      }
    },
    {
      "cell_type": "code",
      "source": [
        "import time\n",
        "matrix_A = np.random.randn(100, 100)\n",
        "matrix_B = np.random.randn(100, 100)\n",
        "\n",
        "start = time.time()\n",
        "np_res = matrix_A @ matrix_B\n",
        "end_numpy = time.time() - start\n",
        "\n",
        "start = time.time()\n",
        "our_res = matmul(matrix_A, matrix_B)\n",
        "end_our = time.time() - start\n",
        "print(\"Numpy в {:8.4f} быстрее, чем наш код\".format(end_our/end_numpy))"
      ],
      "metadata": {
        "id": "QLeWWGte3cnX"
      },
      "execution_count": null,
      "outputs": []
    },
    {
      "cell_type": "code",
      "source": [],
      "metadata": {
        "id": "JO_bUCtfvBeh"
      },
      "execution_count": null,
      "outputs": []
    }
  ]
}