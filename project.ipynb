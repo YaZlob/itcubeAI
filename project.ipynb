{
  "nbformat": 4,
  "nbformat_minor": 0,
  "metadata": {
    "colab": {
      "provenance": []
    },
    "kernelspec": {
      "name": "python3",
      "display_name": "Python 3"
    },
    "language_info": {
      "name": "python"
    }
  },
  "cells": [
    {
      "cell_type": "markdown",
      "source": [
        "## Финальный проект ##\n",
        "___\n",
        "Мы изучали 2 больших раздела науки machine learning, где мы разбирались с линейными алгоритмами и deep learning, где мы обучали нейронные сети для классификации изображений\n",
        "\n",
        "**Возможные варианты проектов**\n",
        "\n",
        "\n",
        "1.   Использование линейных моделей для обработки больших данных\n",
        "2.   Использование нейросетей для задачи классификации\n",
        "\n",
        "Задание, как обычно, творческое, я хочу, чтобы вы провели эксперименты и представили их в качестве проекта. Можно оформить проект в PowerPoint, можно в виде ноутбука jupiter notebook. Набор данных предлагаю взять на платформе [Kaggle](https://www.kaggle.com)\n",
        "Общие требования к проекту (вне зависимости от области ML или DL задачу вы выбрали):\n",
        "\n",
        "1. Расписать цель. Почему именно эту задачу вы выбрали? Почему, на ваш взгляд, задача является актуальной, важной, может быть, *важной для вас*?\n",
        "2. Обязательно обработать данные. В случае с ML это может быть: обработка пропусков данных, удаление лишних данных и т.п. В случае DL и классификации изображений - использование аугментации. \n",
        "3. Провести несколько экспериметнтов! Вам необходимо протестировать несколько моделей и для каждой привести графики (точности и функции потерь). Если есть возможность построить график - стройте!\n",
        "4. Подсчитать метрики. ML смотря какую задачу вы выберите, но для задачи классификации обязательно построить confusion matrix (смотрите предыдущие занятия). Уметь читать и объяснять метрики.\n",
        "\n"
      ],
      "metadata": {
        "id": "ulvsfwl4LqRP"
      }
    },
    {
      "cell_type": "markdown",
      "source": [
        "### Проект в ML ###\n"
      ],
      "metadata": {
        "id": "7mniFviHOtSu"
      }
    },
    {
      "cell_type": "markdown",
      "source": [
        "Для выполнения проекта вам, с вероятностью 99% понадобится библиотека [Pandas](https://pandas.pydata.org). Мы ее не использовали, чтобы ознакомиться с ее возможностями советую посмотреть [примеры](https://www.kaggle.com/code/icarofreire/pandas-24-useful-exercises-with-solutions). Больше примеров можете найти там же. \n",
        "\n",
        "Пример выполнения можете найти [здесь](https://www.kaggle.com/code/faressayah/data-science-best-practices-using-pandas-titanic) и [здесь](https://www.kaggle.com/code/nileshrathi99/predicting-university-ranking)"
      ],
      "metadata": {
        "id": "R3co651_kpb-"
      }
    },
    {
      "cell_type": "markdown",
      "source": [
        "### Проект в DL ###\n",
        "Полузные ссылки:\n",
        "* Об [аугментации](https://pytorch.org/vision/stable/transforms.html) \n",
        "* Для работы с изображениями используйте библиотеку [Pillow](https://pillow.readthedocs.io/en/latest/handbook/tutorial.html)\n",
        "* Советую выполнять задачу сразу в [Kaggle](https://www.kaggle.com), он предоставляет больше бесплатных ресурсов."
      ],
      "metadata": {
        "id": "AhXCjYiSoS3s"
      }
    },
    {
      "cell_type": "markdown",
      "source": [
        "#### Аугментация ####\n",
        "Пример ниже предлагает вариант как можно внедрить аугментацию в ваш код. Можно не использовать все аугментации, которые приведены. **Убедитесь, что параметры для нормализации для всех аугментаций совпадают**"
      ],
      "metadata": {
        "id": "ZtZ7eGCEjnwv"
      }
    },
    {
      "cell_type": "code",
      "source": [
        "class your_dataset:\n",
        "    def __init__(self, ... , datatype:str = 'train'):\n",
        "        ...\n",
        "        self.datatype = type_\n",
        "        self.augm = self.get_augm()\n",
        "    \n",
        "    def get_augm(self,):\n",
        "        if self.datatype == 'train':\n",
        "            return transforms.Compose([transforms.CenterCrop(size = 400),\n",
        "                                      transforms.Resize(size = 256), \n",
        "                                      transforms.RandomPerspective(),\n",
        "                                      transforms.RandomRotation(10),\n",
        "                                      transforms.RandomVerticalFlip(),\n",
        "                                      transforms.RandomHorizontalFlip(),\n",
        "                                      transforms.RandomGrayscale(),\n",
        "                                      transforms.ToTensor(),\n",
        "                                      transforms.Normalize([0.485, 0.456, 0.406], [0.229, 0.224, 0.225])])\n",
        "        elif self.datatype == 'val':\n",
        "            return transforms.Compose(...)\n",
        "        elif self.datatype == 'test':\n",
        "            return  transforms.Compose([transforms.Resize((256,256)),\n",
        "                                         transforms.ToTensor(),\n",
        "                                         transforms.Normalize([0.485, 0.456, 0.406], [0.229, 0.224, 0.225])])\n",
        "\n",
        "    def __getitem__(self, key)\n",
        "        ...\n",
        "        image = Image.open(file_name)\n",
        "        image = self.augm(image)\n",
        "        return image, label"
      ],
      "metadata": {
        "id": "2uWZGV9ZjnLQ"
      },
      "execution_count": null,
      "outputs": []
    }
  ]
}