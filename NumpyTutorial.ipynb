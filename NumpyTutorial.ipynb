{
  "nbformat": 4,
  "nbformat_minor": 0,
  "metadata": {
    "colab": {
      "provenance": []
    },
    "kernelspec": {
      "name": "python3",
      "display_name": "Python 3"
    },
    "language_info": {
      "name": "python"
    }
  },
  "cells": [
    {
      "cell_type": "markdown",
      "source": [
        "#### Как вы уже поняли на большей части наших занятий мы будем использовать библиотеку numpy. "
      ],
      "metadata": {
        "id": "7SmqEJ0pK0bZ"
      }
    },
    {
      "cell_type": "code",
      "execution_count": null,
      "metadata": {
        "id": "Ha8MpfMoKtY8"
      },
      "outputs": [],
      "source": [
        "import numpy as np #импорт только такой, иначе люди вас не поймут.\n",
        "# Можно даже сказать, что это правила хорошего тона."
      ]
    },
    {
      "cell_type": "markdown",
      "source": [
        "Главной особенностью numpy является объект array."
      ],
      "metadata": {
        "id": "VOAs-WLfxmr0"
      }
    },
    {
      "cell_type": "code",
      "source": [
        "float_array = np.array([1, 4, 5, 8], float)     #лучше указывать тип данных numpy"
      ],
      "metadata": {
        "id": "J8oKpG3kLnzA"
      },
      "execution_count": null,
      "outputs": []
    },
    {
      "cell_type": "code",
      "source": [
        "int_array = np.array([1, 4, 5, 8], dtype= np.int16)"
      ],
      "metadata": {
        "id": "Sk72p44rxss8"
      },
      "execution_count": null,
      "outputs": []
    },
    {
      "cell_type": "markdown",
      "source": [
        "> Я надеюсь, что вы знаете чем отличаются типы данных (int, float, double, uint), но на всякий случай напомню \n",
        "\n",
        "Тип  | минимум | максимум |\n",
        "----------------------|-------|---------|\n",
        "int| –32768 | 32767\n",
        "float | 340282346638528859811704183484516925440.0000000000000000 |340282346638528859811704183484516925440.0000000000000000\n",
        "uint8 | 0 | 255\n",
        "\n",
        "Возможно вам кажется, что нет смысла думать какой тип данных используется, но это не так. Используя float16, вместо float64 вы экономите много ОЧЕНЬ много памяти, а также облегчаете работу процессору."
      ],
      "metadata": {
        "id": "zTW0AekVyAzc"
      }
    },
    {
      "cell_type": "code",
      "source": [
        "print(\"Memory size of numpy array in bytes:\", float_array.size * float_array.itemsize)\n",
        "print(\"Memory size of numpy array in bytes:\", int_array.size * int_array.itemsize)"
      ],
      "metadata": {
        "id": "GoQVMZ9_JoLa"
      },
      "execution_count": null,
      "outputs": []
    },
    {
      "cell_type": "code",
      "source": [
        "#Доступные типы данных\n",
        "np.sctypes"
      ],
      "metadata": {
        "id": "VPTYAEfFAvkG"
      },
      "execution_count": null,
      "outputs": []
    },
    {
      "cell_type": "code",
      "source": [
        "#Создаение объекта np.array\n",
        "A = np.array([[1, 2, 3], [4, 5, 6]])"
      ],
      "metadata": {
        "id": "U_flkLYicoVT"
      },
      "execution_count": null,
      "outputs": []
    },
    {
      "cell_type": "code",
      "source": [
        "#Можно создать объект np.array, заполненный 0 или 1, для этого можно\n",
        "#использовать функции np.zeros и np.ones соответсвенно\n",
        "np.zeros((2, 3))"
      ],
      "metadata": {
        "id": "l4BYL1OjcxN7"
      },
      "execution_count": null,
      "outputs": []
    },
    {
      "cell_type": "code",
      "source": [
        "np.ones((3, 2))"
      ],
      "metadata": {
        "id": "GBhoAFy0dFMs"
      },
      "execution_count": null,
      "outputs": []
    },
    {
      "cell_type": "code",
      "source": [
        "#Также можно создать np.array, заполненный 0 или 1 по образу уже \n",
        "#существующего объекта\n",
        "np.zeros_like(np.array([[1, 2, 3], [4, 5, 6]]))\n"
      ],
      "metadata": {
        "id": "vAJjm98SdHoD"
      },
      "execution_count": null,
      "outputs": []
    },
    {
      "cell_type": "code",
      "source": [
        "#Иногда бывает нужна единичная матрица, в numpy есть специальный метод\n",
        "#для ее создания. Мы ей пользовались на предыдущем занятии\n",
        "np.eye(3)"
      ],
      "metadata": {
        "id": "pfH-VIO2fE6b"
      },
      "execution_count": null,
      "outputs": []
    },
    {
      "cell_type": "code",
      "source": [
        "#arange в numpy - модифицированная версия range python\n",
        "#arange может принимать дробные значения, что очень удобно\n",
        "np.arange(0, 1, .1)"
      ],
      "metadata": {
        "id": "J4-PDtuEfSgK"
      },
      "execution_count": null,
      "outputs": []
    },
    {
      "cell_type": "code",
      "source": [
        "#Самое главное, что отличает массивы numpy, от list в python - использование срез\n",
        "#Вы уже знаете что матрица - это список из векторов. Она может быть произвольного\n",
        "#размера. Допустим, мы хотим извлечь только последник элементы из каждого вектора\n",
        "#нашей матрицы, чтобы это сделать в python нужно использовать цикл\n",
        "matrix = [[1,2,3], [4,5,6],[7,8,9]]\n",
        "last_elems = [i[-1] for i in matrix]\n",
        "last_elems"
      ],
      "metadata": {
        "id": "7nnwPizu-SNX"
      },
      "execution_count": null,
      "outputs": []
    },
    {
      "cell_type": "code",
      "source": [
        "#Но тоже самое можно сделать с numpy в одну строку\n",
        "matrix_numpy = np.array(matrix)\n",
        "last_elems = matrix_numpy[:,-1]\n",
        "last_elems"
      ],
      "metadata": {
        "id": "HrB9O9skrfk4"
      },
      "execution_count": null,
      "outputs": []
    },
    {
      "cell_type": "markdown",
      "source": [
        "> Срезы - мощный инструмент библиотеки numpy их использование можно встретиь везде. Очень часто бывает, что нужно достать какой-либо элемент из каждого вектора, поэтому думаю, что стоит разобрать как это работает. \n",
        "\n",
        "Как и при использовании list в python вы открываете [  ], чтобы получить элемент по индексу. Но так numpy предполагает, что мы работаем с многомерными векторами, в чем мы убидились на первом занятии, мы должны указать из какой оси мы хотим взять элементы.  \n",
        "\n",
        "Оператор \":\" - указывает, что мы хотим пройтись по каждому элементу из 0 оси\n",
        "\n",
        "Давайте усложним задачу. Допустим, что у нас есть 5 изображений в формате RGB размера 224 на 224 и мы хотим вырезать из них квадраты 200:200\n"
      ],
      "metadata": {
        "id": "Mg0NWXLEr0_G"
      }
    },
    {
      "cell_type": "code",
      "source": [
        "images = np.random.randn(10, 224, 224, 3) #10 избражений, 224 - W&H, 3 -rgb channels\n",
        "images[:,:200, :200].shape\n",
        "# Согласитесь, что это очень просто"
      ],
      "metadata": {
        "id": "QqmGpybzryxA"
      },
      "execution_count": null,
      "outputs": []
    },
    {
      "cell_type": "markdown",
      "source": [
        "Далее вам предстоит решить очень популярный задачник по numpy!\n",
        "> Я оставляю подсказки к заданиям (hint), чтобы посмотреть как работают методы, можно использовать np.info(np.reshape), где вместо reshape будет нужный метод.\n",
        "\n",
        ">  P.S. дальше будем переходить к алгоритмам, это последнее вводное занятие."
      ],
      "metadata": {
        "id": "sTlnKoMZ0OK8"
      }
    },
    {
      "cell_type": "code",
      "source": [
        "#Создайте нулевой вектор размера 10"
      ],
      "metadata": {
        "id": "mcl3jc1w0l8T"
      },
      "execution_count": null,
      "outputs": []
    },
    {
      "cell_type": "code",
      "source": [
        "#Найдите размер памяти, который занимает матрица 10 * 224 * 224 * 3 типа float32\n",
        "matrix = np.random.randn(10, 224, 224, 3).astype(np.float32)"
      ],
      "metadata": {
        "id": "d0ddRkBq0tTT"
      },
      "execution_count": null,
      "outputs": []
    },
    {
      "cell_type": "code",
      "source": [
        "#Создайте пустой (нулевой) вектор размера 10, пятый элемент которого = 1"
      ],
      "metadata": {
        "id": "ZI6pp5aE1Nlc"
      },
      "execution_count": null,
      "outputs": []
    },
    {
      "cell_type": "code",
      "source": [
        "#Создайте вектор со значениями от 10 до 49"
      ],
      "metadata": {
        "id": "kTzYYKVy1aRj"
      },
      "execution_count": null,
      "outputs": []
    },
    {
      "cell_type": "code",
      "source": [
        "#инвертируйте предыдущий вектор (первый элемент становится последним)"
      ],
      "metadata": {
        "id": "8mfITmLh1ht6"
      },
      "execution_count": null,
      "outputs": []
    },
    {
      "cell_type": "code",
      "source": [
        "#Создайте матрицу 3x3 со значениями от 0 до 8\n",
        "#hint используйте arange и reshape"
      ],
      "metadata": {
        "id": "9_kiytli1tnz"
      },
      "execution_count": null,
      "outputs": []
    },
    {
      "cell_type": "code",
      "source": [
        "#Найдите индексы ненулевых элементов из вектора [1,2,0,0,4,0]\n",
        "#hint используйте nonzero"
      ],
      "metadata": {
        "id": "8qD-No_613xr"
      },
      "execution_count": null,
      "outputs": []
    },
    {
      "cell_type": "code",
      "source": [
        "#Выполните предыдущее задание с помощью функции where"
      ],
      "metadata": {
        "id": "exKXokjq2jBk"
      },
      "execution_count": null,
      "outputs": []
    },
    {
      "cell_type": "code",
      "source": [
        "#Создайте единичную матрицу 3x3"
      ],
      "metadata": {
        "id": "lCzNXvNT2p8b"
      },
      "execution_count": null,
      "outputs": []
    },
    {
      "cell_type": "code",
      "source": [
        "#Создайте массив 3 х 3 х 3 со случайными значениями\n",
        "#hint используйте np.random"
      ],
      "metadata": {
        "id": "RHoY1dpy2-cC"
      },
      "execution_count": null,
      "outputs": []
    },
    {
      "cell_type": "code",
      "source": [
        "#Создайте массив 10x10 со случайными значениями и найдите минимальное и максимальное значения"
      ],
      "metadata": {
        "id": "0hjvWUaZ3H38"
      },
      "execution_count": null,
      "outputs": []
    },
    {
      "cell_type": "code",
      "source": [
        "#Создайте случайный вектор размером 30 и найдите среднее значение"
      ],
      "metadata": {
        "id": "oqWhhyYW3UUK"
      },
      "execution_count": null,
      "outputs": []
    },
    {
      "cell_type": "code",
      "source": [
        "#Найти ближайшее к заданному значению число в массиве на 25 элементов\n",
        "#hint Используйте range для генерации вектора. Для генерации числа np.uniform,\n",
        "#для поиска числа .argmin(), этот метод вернет индекс ближайшего элемента"
      ],
      "metadata": {
        "id": "spnXDxeG53Mn"
      },
      "execution_count": null,
      "outputs": []
    },
    {
      "cell_type": "code",
      "source": [
        "#Создайте двумерный-массив (10x10) с 1(единицами) на границе и 0(нулями) внутри\n",
        "#hint используйте срезы"
      ],
      "metadata": {
        "id": "-RFjVUoS3zgi"
      },
      "execution_count": null,
      "outputs": []
    },
    {
      "cell_type": "code",
      "source": [
        "# какой результат следующих выражений? NaN - not a number - появляется, если\n",
        "# число становится слишком маленьким и не помещается в выбранный тип данных или,\n",
        "#наоборот, слишком большим\n",
        "0 * np.nan\n",
        "np.nan == np.nan\n",
        "np.inf > np.nan\n",
        "np.nan - np.nan\n",
        "np.nan in set([np.nan])\n",
        "0.3 == 3 * 0.1   #ПОЧЕМУ??     "
      ],
      "metadata": {
        "id": "pOSvR3Ti4HSa"
      },
      "execution_count": null,
      "outputs": []
    },
    {
      "cell_type": "code",
      "source": [
        "#Создайте матрицу 5 на 5 со значениями 1,2,3,4,5 по диагонали\n",
        "#hint используйте метод diag"
      ],
      "metadata": {
        "id": "oQDxF9oL8GDK"
      },
      "execution_count": null,
      "outputs": []
    },
    {
      "cell_type": "code",
      "source": [
        "#Дан вектор [1, 2, 3, 4, 5], построить новый вектор с тремя нулями между каждым значением\n",
        "#hint используйте :: в срезе.\n",
        "#Сначала создайте нулевой массив необходимой длины, потом используйте срезы"
      ],
      "metadata": {
        "id": "h7Nryh376_vn"
      },
      "execution_count": null,
      "outputs": []
    },
    {
      "cell_type": "code",
      "source": [
        "#Создайте матрицу 8x8 и залейте ее шахматным узором\n",
        "#hint используйте :: в срезе.\n",
        "#>>> a = np.arange(12)**2\n",
        "#>>> a\n",
        "#array([  0,   1,   4,   9,  16,  25,  36,  49,  64,  81, 100, 121])\n",
        "#>>> a[::3]\n",
        "#array([ 0,  9, 36, 81])\n",
        "#Как вы видите итерация по вектору проходит через 3 элемента, начиная с 0"
      ],
      "metadata": {
        "id": "XfUbIdbf8lg4"
      },
      "execution_count": null,
      "outputs": []
    },
    {
      "cell_type": "code",
      "source": [
        "#Нормализуйте матрицу \n",
        "#1 создайте матрицу случайных целых значений 3х3\n",
        "#2 найдите среднее значение значение элементов в каждой строке\n",
        "#3 найдите стандартное отклонение используйте np.std\n",
        "#4 вычтите из матрицы значение, полученное в пункте 2 и разделите на значение из\n",
        "#пункта 3"
      ],
      "metadata": {
        "id": "5AoO9hzk-y2w"
      },
      "execution_count": null,
      "outputs": []
    },
    {
      "cell_type": "code",
      "source": [
        "#Умножьте матрицу 5x3 на матрицу 3x2"
      ],
      "metadata": {
        "id": "V6kvUdQt85FB"
      },
      "execution_count": null,
      "outputs": []
    },
    {
      "cell_type": "code",
      "source": [
        "#задан одномерный массив, инвертируйте (поменяйте знак) у всех элементов массива,\n",
        "#которые находятся в диапазоне от 3 до 8, прямо в нем самом\n",
        "#(без перезаписывания значений).\n",
        "#hint создайте массив с помощью arange и далее логика решения, как в задаче с where"
      ],
      "metadata": {
        "id": "pkpPqXnPGcQN"
      },
      "execution_count": null,
      "outputs": []
    },
    {
      "cell_type": "code",
      "source": [
        "#Каковы результаты следующих выражений?\n",
        "np.array(0) / np.array(0)\n",
        "np.array(0) // np.array(0)"
      ],
      "metadata": {
        "id": "VGE7Qc12GrV1"
      },
      "execution_count": null,
      "outputs": []
    },
    {
      "cell_type": "code",
      "source": [
        "#Как найти общие значения между двумя массивами?\n",
        "#hint испльзуйте intersect1d"
      ],
      "metadata": {
        "id": "mokh_px6G9DU"
      },
      "execution_count": null,
      "outputs": []
    },
    {
      "cell_type": "code",
      "source": [
        "#Некоторые ресерчеры не задумываются о том, как код модели будет работать в \n",
        "#реальности. Поэтому часто оперативка сервера переполняется, чтобы этого не\n",
        "#случалось нужно уйти от копирования данных\n",
        "#Как вычислить ((A + B) * (- A / 2)) на месте (без копирования - то есть без\n",
        "#создания дополнительного массива кроме существующих A, B)?\n",
        "#hint Можно написать выражение в одну строчку. Можно использовать методы add,\n",
        "#divide и т.д"
      ],
      "metadata": {
        "id": "1jPlZaOuHU2l"
      },
      "execution_count": null,
      "outputs": []
    },
    {
      "cell_type": "code",
      "source": [
        "#Извлеките целую часть случайного массива положительных чисел\n",
        "#Например [[1.1, 2.1], [2.4, .0]] -> [[1,2],[2,0]]\n",
        "array = np.random.uniform(0,10,10)"
      ],
      "metadata": {
        "id": "RgcKWWa4InuF"
      },
      "execution_count": null,
      "outputs": []
    },
    {
      "cell_type": "code",
      "source": [
        "#Создайте матрицу 5x5 со значениями строк от 0 до 4\n",
        "#hint сначала создайте пустую матрицу, потом прибавьте строки через arange"
      ],
      "metadata": {
        "id": "dV04HOHfI0es"
      },
      "execution_count": null,
      "outputs": []
    },
    {
      "cell_type": "code",
      "source": [
        "#Создайте случайный вектор размером 10 и отсортируйте его"
      ],
      "metadata": {
        "id": "jI-P0mhqIril"
      },
      "execution_count": null,
      "outputs": []
    },
    {
      "cell_type": "code",
      "source": [
        "#Рассмотрим два случайных массива A и B, проверьте, равны ли они"
      ],
      "metadata": {
        "id": "viueUz89JFFF"
      },
      "execution_count": null,
      "outputs": []
    },
    {
      "cell_type": "code",
      "source": [
        "#Создайте случайный вектор размером 10 и замените максимальное значение на 0"
      ],
      "metadata": {
        "id": "B19TZ5eyJP_k"
      },
      "execution_count": null,
      "outputs": []
    },
    {
      "cell_type": "code",
      "source": [],
      "metadata": {
        "id": "Uz0NyIvcMtDj"
      },
      "execution_count": null,
      "outputs": []
    }
  ]
}