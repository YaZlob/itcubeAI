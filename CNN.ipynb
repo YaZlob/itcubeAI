{
  "nbformat": 4,
  "nbformat_minor": 0,
  "metadata": {
    "colab": {
      "provenance": []
    },
    "kernelspec": {
      "name": "python3",
      "display_name": "Python 3"
    },
    "language_info": {
      "name": "python"
    }
  },
  "cells": [
    {
      "cell_type": "markdown",
      "source": [
        "## ResNet ##\n",
        "___\n",
        "Нам предстоит реализовать нейронную сеть ResNet. Давайте вспомним главную идею этой сети \n",
        "![image.png](data:image/png;base64,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)"
      ],
      "metadata": {
        "id": "Qx3n29GL55pH"
      }
    },
    {
      "cell_type": "code",
      "execution_count": null,
      "metadata": {
        "id": "KODSDIX01MRB"
      },
      "outputs": [],
      "source": [
        "import torch\n",
        "import torch.nn as nn\n",
        "import torch.optim as optim\n",
        "import torch.backends.cudnn as cudnn\n",
        "import numpy as np\n",
        "import torchvision\n",
        "from torchvision import datasets, models, transforms\n",
        "import matplotlib.pyplot as plt\n",
        "import time\n",
        "import os\n",
        "import copy"
      ]
    },
    {
      "cell_type": "code",
      "source": [
        "! wget https://download.pytorch.org/tutorial/hymenoptera_data.zip"
      ],
      "metadata": {
        "id": "HLoGZktM6eY-"
      },
      "execution_count": null,
      "outputs": []
    },
    {
      "cell_type": "code",
      "source": [
        "!unzip /content/hymenoptera_data.zip -d /content/data/"
      ],
      "metadata": {
        "id": "STwfF_eI6k5A"
      },
      "execution_count": null,
      "outputs": []
    },
    {
      "cell_type": "code",
      "source": [
        "batch_size = 8\n",
        "data_transforms = {\n",
        "    'train': transforms.Compose([\n",
        "        transforms.RandomResizedCrop(224),\n",
        "        transforms.RandomHorizontalFlip(),\n",
        "        transforms.ToTensor(),\n",
        "        transforms.Normalize([0.485, 0.456, 0.406], [0.229, 0.224, 0.225])\n",
        "    ]),\n",
        "    'val': transforms.Compose([\n",
        "        transforms.Resize(256),\n",
        "        transforms.CenterCrop(224),\n",
        "        transforms.ToTensor(),\n",
        "        transforms.Normalize([0.485, 0.456, 0.406], [0.229, 0.224, 0.225])\n",
        "    ]),\n",
        "}\n",
        "\n",
        "data_dir = 'data/hymenoptera_data'\n",
        "image_datasets = {x: datasets.ImageFolder(os.path.join(data_dir, x),\n",
        "                                          data_transforms[x])\n",
        "                  for x in ['train', 'val']}\n",
        "dataloaders = {x: torch.utils.data.DataLoader(image_datasets[x], batch_size=batch_size,\n",
        "                                             shuffle=True, num_workers=4)\n",
        "              for x in ['train', 'val']}\n",
        "dataset_sizes = {x: len(image_datasets[x]) for x in ['train', 'val']}\n",
        "class_names = image_datasets['train'].classes\n",
        "\n",
        "device = torch.device(\"cuda:0\" if torch.cuda.is_available() else \"cpu\")"
      ],
      "metadata": {
        "id": "4F6p8KSz7dGX"
      },
      "execution_count": null,
      "outputs": []
    },
    {
      "cell_type": "code",
      "source": [
        "def imshow(inp, title=None):\n",
        "    \"\"\"Imshow for Tensor.\"\"\"\n",
        "    inp = inp.numpy().transpose((1, 2, 0))\n",
        "    mean = np.array([0.485, 0.456, 0.406])\n",
        "    std = np.array([0.229, 0.224, 0.225])\n",
        "    inp = std * inp + mean\n",
        "    inp = np.clip(inp, 0, 1)\n",
        "    plt.imshow(inp)\n",
        "    if title is not None:\n",
        "        plt.title(title)\n",
        "    plt.pause(0.001)  # pause a bit so that plots are updated\n",
        "\n",
        "\n",
        "# Get a batch of training data\n",
        "inputs, classes = next(iter(dataloaders['train']))\n",
        "\n",
        "# Make a grid from batch\n",
        "out = torchvision.utils.make_grid(inputs)\n",
        "\n",
        "imshow(out, title=[class_names[x] for x in classes])"
      ],
      "metadata": {
        "id": "1xu_jnvl7hN_"
      },
      "execution_count": null,
      "outputs": []
    },
    {
      "cell_type": "code",
      "source": [
        "class BasicBlock(nn.Module):\n",
        "    \"\"\"\n",
        "    Основной блок модели ResNet, использующий skip connection (смотри начало ноутбука)\n",
        "    \"\"\"\n",
        "    def __init__(self, in_channels, out_channels, stride=1, downsample=None):\n",
        "        super().__init__()\n",
        "        self.conv1 = nn.Conv2d(in_channels, out_channels, kernel_size=3, stride=stride,\n",
        "                     padding=1, bias=False)\n",
        "        self.bn1 = nn.BatchNorm2d(out_channels)\n",
        "        self.relu = nn.ReLU(inplace=True)\n",
        "        self.conv2 = nn.Conv2d(out_channels, out_channels, kernel_size=3, stride=1,\n",
        "                     padding=1, bias=False)\n",
        "        self.bn2 = nn.BatchNorm2d(out_channels)\n",
        "        self.downsample = downsample\n",
        "        self.stride = stride\n",
        "\n",
        "    def forward(self, x):\n",
        "        identity = x\n",
        "\n",
        "        out = self.conv1(x)\n",
        "        out = self.bn1(out)\n",
        "        out = self.relu(out)\n",
        "\n",
        "        out = self.conv2(out)\n",
        "        out = self.bn2(out)\n",
        "\n",
        "        if self.downsample is not None:\n",
        "            identity = self.downsample(x)\n",
        "\n",
        "        out += identity\n",
        "        out = self.relu(out)\n",
        "\n",
        "        return out"
      ],
      "metadata": {
        "id": "tg-BxJq06z0O"
      },
      "execution_count": null,
      "outputs": []
    },
    {
      "cell_type": "code",
      "source": [
        "BasicBlock(64,128)\n",
        "# Что будет, если мы попытаемся вызвать метод forward этого блока?"
      ],
      "metadata": {
        "id": "LjnITi0Y7oM_"
      },
      "execution_count": null,
      "outputs": []
    },
    {
      "cell_type": "code",
      "source": [
        "x = torch.randn(4, 64, 128, 128)\n",
        "block = BasicBlock(64,64)\n",
        "block(x).shape"
      ],
      "metadata": {
        "id": "uOmzm4jfJ-2y"
      },
      "execution_count": null,
      "outputs": []
    },
    {
      "cell_type": "code",
      "source": [
        "def _make_layer(block, in_channels, out_channels, blocks, stride=1):\n",
        "    \"\"\"\n",
        "      Создает 1 слой ResNet (1 слой состоит из blocks элементов BasicBlock)\n",
        "    \"\"\"\n",
        "    downsample = None  \n",
        "    if stride != 1 or in_channels != out_channels:\n",
        "        downsample = nn.Sequential(            \n",
        "            nn.Conv2d(in_channels, out_channels, 1, stride, bias=False),\n",
        "            nn.BatchNorm2d(out_channels))\n",
        "    layers = []\n",
        "    layers.append(block(in_channels, out_channels, stride, downsample))\n",
        "    in_channels = out_channels\n",
        "    for _ in range(1, blocks):\n",
        "        layers.append(block(in_channels, out_channels))\n",
        "    return nn.Sequential(*layers)"
      ],
      "metadata": {
        "id": "02-6PExW8Klm"
      },
      "execution_count": null,
      "outputs": []
    },
    {
      "cell_type": "code",
      "source": [
        "layers=[3, 4, 6, 3]\n",
        "layer1 =_make_layer(BasicBlock, in_channels=64,out_channels=64, blocks=layers[0])\n",
        "layer1"
      ],
      "metadata": {
        "id": "0nUZoqdN8frW"
      },
      "execution_count": null,
      "outputs": []
    },
    {
      "cell_type": "code",
      "source": [
        "layer1(x).shape"
      ],
      "metadata": {
        "id": "LnDZ_BCuKeKa"
      },
      "execution_count": null,
      "outputs": []
    },
    {
      "cell_type": "code",
      "source": [
        "class ResNet(nn.Module):\n",
        "\n",
        "    def __init__(self, block, layers, num_classes=2):\n",
        "        super().__init__()\n",
        "        \n",
        "        self.in_channels = 64\n",
        "\n",
        "        self.conv1 = nn.Conv2d(3, self.in_channels, kernel_size=7, stride=2, padding=3,\n",
        "                               bias=False)\n",
        "        self.bn1 = nn.BatchNorm2d(self.in_channels)\n",
        "        self.relu = nn.ReLU(inplace=True)\n",
        "        self.maxpool = nn.MaxPool2d(kernel_size=3, stride=2, padding=1)\n",
        "        \n",
        "        self.layer1 = self._make_layer(block, 64, layers[0])\n",
        "        self.layer2 = self._make_layer(block, 128, layers[1], stride=2)\n",
        "        self.layer3 = self._make_layer(block, 256, layers[2], stride=2)\n",
        "        self.layer4 = self._make_layer(block, 512, layers[3], stride=2)\n",
        "        \n",
        "        self.avgpool = nn.AdaptiveAvgPool2d((1, 1))\n",
        "        self.fc = nn.Linear(512 , num_classes)\n",
        "\n",
        "\n",
        "    def _make_layer(self, block, out_channels, blocks, stride=1):\n",
        "        downsample = None  \n",
        "   \n",
        "        if stride != 1 or self.in_channels != out_channels:\n",
        "            downsample = nn.Sequential(\n",
        "                nn.Conv2d(self.in_channels, out_channels, 1, stride, bias=False),\n",
        "                nn.BatchNorm2d(out_channels),\n",
        "            )\n",
        "\n",
        "        layers = []\n",
        "        layers.append(block(self.in_channels, out_channels, stride, downsample))\n",
        "        \n",
        "        self.in_channels = out_channels\n",
        "        \n",
        "        for _ in range(1, blocks):\n",
        "            layers.append(block(self.in_channels, out_channels))\n",
        "\n",
        "        return nn.Sequential(*layers)\n",
        "    \n",
        "    \n",
        "    def forward(self, x):\n",
        "        x = self.conv1(x)           # 224x224\n",
        "        x = self.bn1(x)\n",
        "        x = self.relu(x)\n",
        "        x = self.maxpool(x)         # 112x112\n",
        "\n",
        "        x = self.layer1(x)          # 56x56\n",
        "        x = self.layer2(x)          # 28x28\n",
        "        x = self.layer3(x)          # 14x14\n",
        "        x = self.layer4(x)          # 7x7\n",
        "        x = self.avgpool(x)         # 1x1\n",
        "        x = torch.flatten(x, 1)     # remove 1 X 1 grid and make vector of tensor shape \n",
        "        x = self.fc(x)\n",
        "\n",
        "        return x\n",
        "\n",
        "def create_our_resnet34():\n",
        "    layers=[3, 4, 6, 3]\n",
        "    model = ResNet(BasicBlock, layers)\n",
        "    return model"
      ],
      "metadata": {
        "id": "omUnN9jj8qLS"
      },
      "execution_count": null,
      "outputs": []
    },
    {
      "cell_type": "code",
      "source": [
        "model = create_our_resnet34()\n",
        "model"
      ],
      "metadata": {
        "id": "uAw_GqYB9OcH"
      },
      "execution_count": null,
      "outputs": []
    },
    {
      "cell_type": "code",
      "source": [
        "x = torch.randn(4,3,224,224)\n",
        "model(x).shape"
      ],
      "metadata": {
        "id": "s1Wxb4SpK9rq"
      },
      "execution_count": null,
      "outputs": []
    },
    {
      "cell_type": "code",
      "source": [
        "def train_model(model, criterion, optimizer, scheduler, num_epochs=25):\n",
        "    since = time.time()\n",
        "\n",
        "    best_model_wts = copy.deepcopy(model.state_dict())\n",
        "    best_acc = 0.0\n",
        "\n",
        "    for epoch in range(num_epochs):\n",
        "        print(f'Epoch {epoch}/{num_epochs - 1}')\n",
        "        print('-' * 10)\n",
        "\n",
        "        # Each epoch has a training and validation phase\n",
        "        for phase in ['train', 'val']:\n",
        "            if phase == 'train':\n",
        "                model.train()  # Set model to training mode\n",
        "            else:\n",
        "                model.eval()   # Set model to evaluate mode\n",
        "\n",
        "            running_loss = 0.0\n",
        "            running_corrects = 0\n",
        "\n",
        "            # Iterate over data.\n",
        "            for inputs, labels in dataloaders[phase]:\n",
        "                inputs = inputs.to(device)\n",
        "                labels = labels.to(device)\n",
        "\n",
        "                # zero the parameter gradients\n",
        "                optimizer.zero_grad()\n",
        "\n",
        "                # forward\n",
        "                # track history if only in train\n",
        "                with torch.set_grad_enabled(phase == 'train'):\n",
        "                    outputs = model(inputs)\n",
        "                    _, preds = torch.max(outputs, 1)\n",
        "                    loss = criterion(outputs, labels)\n",
        "\n",
        "                    # backward + optimize only if in training phase\n",
        "                    if phase == 'train':\n",
        "                        loss.backward()\n",
        "                        optimizer.step()\n",
        "\n",
        "                # statistics\n",
        "                running_loss += loss.item() * inputs.size(0)\n",
        "                running_corrects += torch.sum(preds == labels.data)\n",
        "            if phase == 'train' and scheduler is not None:\n",
        "                scheduler.step()\n",
        "\n",
        "            epoch_loss = running_loss / dataset_sizes[phase]\n",
        "            epoch_acc = running_corrects.double() / dataset_sizes[phase]\n",
        "\n",
        "            print(f'{phase} Loss: {epoch_loss:.4f} Acc: {epoch_acc:.4f}')\n",
        "\n",
        "            # deep copy the model\n",
        "            if phase == 'val' and epoch_acc > best_acc:\n",
        "                best_acc = epoch_acc\n",
        "                best_model_wts = copy.deepcopy(model.state_dict())\n",
        "\n",
        "        print()\n",
        "\n",
        "    time_elapsed = time.time() - since\n",
        "    print(f'Training complete in {time_elapsed // 60:.0f}m {time_elapsed % 60:.0f}s')\n",
        "    print(f'Best val Acc: {best_acc:4f}')\n",
        "\n",
        "    # load best model weights\n",
        "    model.load_state_dict(best_model_wts)\n",
        "    return model\n",
        "\n",
        "def visualize_model(model, num_images=6):\n",
        "    was_training = model.training\n",
        "    model.eval()\n",
        "    images_so_far = 0\n",
        "    fig = plt.figure()\n",
        "\n",
        "    with torch.no_grad():\n",
        "        for i, (inputs, labels) in enumerate(dataloaders['val']):\n",
        "            inputs = inputs.to(device)\n",
        "            labels = labels.to(device)\n",
        "\n",
        "            outputs = model(inputs)\n",
        "            _, preds = torch.max(outputs, 1)\n",
        "\n",
        "            for j in range(inputs.size()[0]):\n",
        "                images_so_far += 1\n",
        "                ax = plt.subplot(num_images//2, 2, images_so_far)\n",
        "                ax.axis('off')\n",
        "                ax.set_title(f'predicted: {class_names[preds[j]]}')\n",
        "                imshow(inputs.cpu().data[j])\n",
        "\n",
        "                if images_so_far == num_images:\n",
        "                    model.train(mode=was_training)\n",
        "                    return\n",
        "        model.train(mode=was_training)"
      ],
      "metadata": {
        "id": "JR6b9X0A9cDX"
      },
      "execution_count": null,
      "outputs": []
    },
    {
      "cell_type": "code",
      "source": [
        "model_ft = create_our_resnet34()\n",
        "criterion = nn.CrossEntropyLoss()\n",
        "\n",
        "# Observe that all parameters are being optimized\n",
        "model_ft = model_ft.to(device)\n",
        "optimizer_ft = optim.Adam(model_ft.parameters(), lr=3e-4)\n",
        "scheduler = torch.optim.lr_scheduler.StepLR(optimizer_ft,step_size=7, gamma=0.1)\n",
        "model_ft = train_model(model_ft, criterion, optimizer_ft, scheduler, num_epochs=22)"
      ],
      "metadata": {
        "id": "0vjVv52a99VH"
      },
      "execution_count": null,
      "outputs": []
    },
    {
      "cell_type": "markdown",
      "source": [
        "## Transfer Learning ##\n",
        "На этом этапе у меня получалась точность модели около 80%. Попробуем применить технику Transfer Learning. Применим ее в 2х вариантах. \n",
        "\n",
        "1.   Будем обучать модель полностью\n",
        "2.   Будем обучать только слой классификатора\n",
        "\n"
      ],
      "metadata": {
        "id": "0w23ovkvfr8n"
      }
    },
    {
      "cell_type": "code",
      "source": [
        "model_ft = models.resnet18(pretrained=True)"
      ],
      "metadata": {
        "id": "xrCTQSX6gFYO"
      },
      "execution_count": null,
      "outputs": []
    },
    {
      "cell_type": "code",
      "source": [
        "model_ft"
      ],
      "metadata": {
        "id": "CMBwlfblgIBl"
      },
      "execution_count": null,
      "outputs": []
    },
    {
      "cell_type": "markdown",
      "source": [
        "Как вы можете видеть - модель обучена для другой задаи и имеет тысячу выходных нейронов. Мы же хотим классифицировать только муравьев и пчел, нужно модифицировать слой классификатора."
      ],
      "metadata": {
        "id": "CHRTvXYKgMAR"
      }
    },
    {
      "cell_type": "code",
      "source": [
        "model_ft = models.resnet18(pretrained=True)\n",
        "num_ftrs = model_ft.fc.in_features\n",
        "# Here the size of each output sample is set to 2.\n",
        "# Alternatively, it can be generalized to nn.Linear(num_ftrs, len(class_names)).\n",
        "model_ft.fc = nn.Linear(num_ftrs, 2)\n",
        "\n",
        "model_ft = model_ft.to(device)\n",
        "\n",
        "criterion = nn.CrossEntropyLoss()\n",
        "\n",
        "# Observe that all parameters are being optimized\n",
        "optimizer_ft = optim.Adam(model_ft.parameters(), lr=0.001)\n",
        "\n",
        "# Decay LR by a factor of 0.1 every 7 epochs\n",
        "exp_lr_scheduler =  torch.optim.lr_scheduler.StepLR(optimizer_ft, step_size=7, gamma=0.1)\n",
        "model_ft = train_model(model_ft, criterion, optimizer_ft, exp_lr_scheduler,\n",
        "                       num_epochs=25)\n",
        "visualize_model(model_ft)"
      ],
      "metadata": {
        "id": "57OoTxHdcn1d"
      },
      "execution_count": null,
      "outputs": []
    },
    {
      "cell_type": "markdown",
      "source": [
        "Теперь заморозим сверточные слои модели. Идея в том, что модель обучалась на большом датасете и уже понимает как \"устроен мир\", она умеет хорошо выделять признаки изображения. Будем обучать только классификатор."
      ],
      "metadata": {
        "id": "hp4kO-ryggAm"
      }
    },
    {
      "cell_type": "code",
      "source": [
        "model_conv = torchvision.models.resnet18(pretrained=True)\n",
        "for param in model_conv.parameters():\n",
        "    param.requires_grad = False\n",
        "\n",
        "# Parameters of newly constructed modules have requires_grad=True by default\n",
        "num_ftrs = model_conv.fc.in_features\n",
        "model_conv.fc = nn.Linear(num_ftrs, 2)\n",
        "\n",
        "model_conv = model_conv.to(device)\n",
        "\n",
        "criterion = nn.CrossEntropyLoss()\n",
        "\n",
        "# Observe that only parameters of final layer are being optimized as\n",
        "# opposed to before.\n",
        "optimizer_conv = optim.Adam(model_ft.parameters(), lr=0.001)\n",
        "\n",
        "# Decay LR by a factor of 0.1 every 7 epochs\n",
        "exp_lr_scheduler = torch.optim.lr_scheduler.StepLR(optimizer_conv, step_size=7, gamma=0.1)\n",
        "model_conv = train_model(model_conv, criterion, optimizer_conv,\n",
        "                         exp_lr_scheduler, num_epochs=3)\n",
        "visualize_model(model_ft)"
      ],
      "metadata": {
        "id": "6DuofY_ZdKat"
      },
      "execution_count": null,
      "outputs": []
    }
  ]
}